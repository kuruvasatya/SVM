{
  "nbformat": 4,
  "nbformat_minor": 0,
  "metadata": {
    "colab": {
      "name": "SVM.ipynb",
      "provenance": [],
      "authorship_tag": "ABX9TyOUkITxRvTFgPc+ZZrcGshB",
      "include_colab_link": true
    },
    "kernelspec": {
      "name": "python3",
      "display_name": "Python 3"
    },
    "accelerator": "GPU"
  },
  "cells": [
    {
      "cell_type": "markdown",
      "metadata": {
        "id": "view-in-github",
        "colab_type": "text"
      },
      "source": [
        "<a href=\"https://colab.research.google.com/github/kuruvasatya/SVM/blob/master/SVM.ipynb\" target=\"_parent\"><img src=\"https://colab.research.google.com/assets/colab-badge.svg\" alt=\"Open In Colab\"/></a>"
      ]
    },
    {
      "cell_type": "code",
      "metadata": {
        "id": "kSZK9sC21E84",
        "colab_type": "code",
        "colab": {
          "base_uri": "https://localhost:8080/",
          "height": 72
        },
        "outputId": "8b9e1adc-62a2-4f12-8d9e-7a334cb15972"
      },
      "source": [
        "import pandas as pd\n",
        "import numpy as np\n",
        "import matplotlib.pyplot as plt\n",
        "import seaborn as sns\n",
        "\n",
        "sns.set_style('whitegrid')\n",
        "%matplotlib inline"
      ],
      "execution_count": 1,
      "outputs": [
        {
          "output_type": "stream",
          "text": [
            "/usr/local/lib/python3.6/dist-packages/statsmodels/tools/_testing.py:19: FutureWarning: pandas.util.testing is deprecated. Use the functions in the public API at pandas.testing instead.\n",
            "  import pandas.util.testing as tm\n"
          ],
          "name": "stderr"
        }
      ]
    },
    {
      "cell_type": "code",
      "metadata": {
        "id": "hONDxBRd1Zv2",
        "colab_type": "code",
        "colab": {}
      },
      "source": [
        "from sklearn.datasets import load_breast_cancer"
      ],
      "execution_count": 0,
      "outputs": []
    },
    {
      "cell_type": "code",
      "metadata": {
        "id": "vfL_Rpx61h2s",
        "colab_type": "code",
        "colab": {}
      },
      "source": [
        "cancer = load_breast_cancer()"
      ],
      "execution_count": 0,
      "outputs": []
    },
    {
      "cell_type": "code",
      "metadata": {
        "id": "CIbyWCr81odh",
        "colab_type": "code",
        "colab": {}
      },
      "source": [
        "col_names = list(cancer.feature_names)\n",
        "col_names.append('target')\n",
        "\n",
        "data = pd.DataFrame(np.c_[cancer.data,cancer.target],columns=col_names)"
      ],
      "execution_count": 0,
      "outputs": []
    },
    {
      "cell_type": "code",
      "metadata": {
        "id": "dktfKKD71qc9",
        "colab_type": "code",
        "colab": {
          "base_uri": "https://localhost:8080/",
          "height": 249
        },
        "outputId": "31fb02f5-27f3-4ea2-9030-07bcbd03fe80"
      },
      "source": [
        "data.head()"
      ],
      "execution_count": 7,
      "outputs": [
        {
          "output_type": "execute_result",
          "data": {
            "text/html": [
              "<div>\n",
              "<style scoped>\n",
              "    .dataframe tbody tr th:only-of-type {\n",
              "        vertical-align: middle;\n",
              "    }\n",
              "\n",
              "    .dataframe tbody tr th {\n",
              "        vertical-align: top;\n",
              "    }\n",
              "\n",
              "    .dataframe thead th {\n",
              "        text-align: right;\n",
              "    }\n",
              "</style>\n",
              "<table border=\"1\" class=\"dataframe\">\n",
              "  <thead>\n",
              "    <tr style=\"text-align: right;\">\n",
              "      <th></th>\n",
              "      <th>mean radius</th>\n",
              "      <th>mean texture</th>\n",
              "      <th>mean perimeter</th>\n",
              "      <th>mean area</th>\n",
              "      <th>mean smoothness</th>\n",
              "      <th>mean compactness</th>\n",
              "      <th>mean concavity</th>\n",
              "      <th>mean concave points</th>\n",
              "      <th>mean symmetry</th>\n",
              "      <th>mean fractal dimension</th>\n",
              "      <th>radius error</th>\n",
              "      <th>texture error</th>\n",
              "      <th>perimeter error</th>\n",
              "      <th>area error</th>\n",
              "      <th>smoothness error</th>\n",
              "      <th>compactness error</th>\n",
              "      <th>concavity error</th>\n",
              "      <th>concave points error</th>\n",
              "      <th>symmetry error</th>\n",
              "      <th>fractal dimension error</th>\n",
              "      <th>worst radius</th>\n",
              "      <th>worst texture</th>\n",
              "      <th>worst perimeter</th>\n",
              "      <th>worst area</th>\n",
              "      <th>worst smoothness</th>\n",
              "      <th>worst compactness</th>\n",
              "      <th>worst concavity</th>\n",
              "      <th>worst concave points</th>\n",
              "      <th>worst symmetry</th>\n",
              "      <th>worst fractal dimension</th>\n",
              "      <th>target</th>\n",
              "    </tr>\n",
              "  </thead>\n",
              "  <tbody>\n",
              "    <tr>\n",
              "      <th>0</th>\n",
              "      <td>17.99</td>\n",
              "      <td>10.38</td>\n",
              "      <td>122.80</td>\n",
              "      <td>1001.0</td>\n",
              "      <td>0.11840</td>\n",
              "      <td>0.27760</td>\n",
              "      <td>0.3001</td>\n",
              "      <td>0.14710</td>\n",
              "      <td>0.2419</td>\n",
              "      <td>0.07871</td>\n",
              "      <td>1.0950</td>\n",
              "      <td>0.9053</td>\n",
              "      <td>8.589</td>\n",
              "      <td>153.40</td>\n",
              "      <td>0.006399</td>\n",
              "      <td>0.04904</td>\n",
              "      <td>0.05373</td>\n",
              "      <td>0.01587</td>\n",
              "      <td>0.03003</td>\n",
              "      <td>0.006193</td>\n",
              "      <td>25.38</td>\n",
              "      <td>17.33</td>\n",
              "      <td>184.60</td>\n",
              "      <td>2019.0</td>\n",
              "      <td>0.1622</td>\n",
              "      <td>0.6656</td>\n",
              "      <td>0.7119</td>\n",
              "      <td>0.2654</td>\n",
              "      <td>0.4601</td>\n",
              "      <td>0.11890</td>\n",
              "      <td>0.0</td>\n",
              "    </tr>\n",
              "    <tr>\n",
              "      <th>1</th>\n",
              "      <td>20.57</td>\n",
              "      <td>17.77</td>\n",
              "      <td>132.90</td>\n",
              "      <td>1326.0</td>\n",
              "      <td>0.08474</td>\n",
              "      <td>0.07864</td>\n",
              "      <td>0.0869</td>\n",
              "      <td>0.07017</td>\n",
              "      <td>0.1812</td>\n",
              "      <td>0.05667</td>\n",
              "      <td>0.5435</td>\n",
              "      <td>0.7339</td>\n",
              "      <td>3.398</td>\n",
              "      <td>74.08</td>\n",
              "      <td>0.005225</td>\n",
              "      <td>0.01308</td>\n",
              "      <td>0.01860</td>\n",
              "      <td>0.01340</td>\n",
              "      <td>0.01389</td>\n",
              "      <td>0.003532</td>\n",
              "      <td>24.99</td>\n",
              "      <td>23.41</td>\n",
              "      <td>158.80</td>\n",
              "      <td>1956.0</td>\n",
              "      <td>0.1238</td>\n",
              "      <td>0.1866</td>\n",
              "      <td>0.2416</td>\n",
              "      <td>0.1860</td>\n",
              "      <td>0.2750</td>\n",
              "      <td>0.08902</td>\n",
              "      <td>0.0</td>\n",
              "    </tr>\n",
              "    <tr>\n",
              "      <th>2</th>\n",
              "      <td>19.69</td>\n",
              "      <td>21.25</td>\n",
              "      <td>130.00</td>\n",
              "      <td>1203.0</td>\n",
              "      <td>0.10960</td>\n",
              "      <td>0.15990</td>\n",
              "      <td>0.1974</td>\n",
              "      <td>0.12790</td>\n",
              "      <td>0.2069</td>\n",
              "      <td>0.05999</td>\n",
              "      <td>0.7456</td>\n",
              "      <td>0.7869</td>\n",
              "      <td>4.585</td>\n",
              "      <td>94.03</td>\n",
              "      <td>0.006150</td>\n",
              "      <td>0.04006</td>\n",
              "      <td>0.03832</td>\n",
              "      <td>0.02058</td>\n",
              "      <td>0.02250</td>\n",
              "      <td>0.004571</td>\n",
              "      <td>23.57</td>\n",
              "      <td>25.53</td>\n",
              "      <td>152.50</td>\n",
              "      <td>1709.0</td>\n",
              "      <td>0.1444</td>\n",
              "      <td>0.4245</td>\n",
              "      <td>0.4504</td>\n",
              "      <td>0.2430</td>\n",
              "      <td>0.3613</td>\n",
              "      <td>0.08758</td>\n",
              "      <td>0.0</td>\n",
              "    </tr>\n",
              "    <tr>\n",
              "      <th>3</th>\n",
              "      <td>11.42</td>\n",
              "      <td>20.38</td>\n",
              "      <td>77.58</td>\n",
              "      <td>386.1</td>\n",
              "      <td>0.14250</td>\n",
              "      <td>0.28390</td>\n",
              "      <td>0.2414</td>\n",
              "      <td>0.10520</td>\n",
              "      <td>0.2597</td>\n",
              "      <td>0.09744</td>\n",
              "      <td>0.4956</td>\n",
              "      <td>1.1560</td>\n",
              "      <td>3.445</td>\n",
              "      <td>27.23</td>\n",
              "      <td>0.009110</td>\n",
              "      <td>0.07458</td>\n",
              "      <td>0.05661</td>\n",
              "      <td>0.01867</td>\n",
              "      <td>0.05963</td>\n",
              "      <td>0.009208</td>\n",
              "      <td>14.91</td>\n",
              "      <td>26.50</td>\n",
              "      <td>98.87</td>\n",
              "      <td>567.7</td>\n",
              "      <td>0.2098</td>\n",
              "      <td>0.8663</td>\n",
              "      <td>0.6869</td>\n",
              "      <td>0.2575</td>\n",
              "      <td>0.6638</td>\n",
              "      <td>0.17300</td>\n",
              "      <td>0.0</td>\n",
              "    </tr>\n",
              "    <tr>\n",
              "      <th>4</th>\n",
              "      <td>20.29</td>\n",
              "      <td>14.34</td>\n",
              "      <td>135.10</td>\n",
              "      <td>1297.0</td>\n",
              "      <td>0.10030</td>\n",
              "      <td>0.13280</td>\n",
              "      <td>0.1980</td>\n",
              "      <td>0.10430</td>\n",
              "      <td>0.1809</td>\n",
              "      <td>0.05883</td>\n",
              "      <td>0.7572</td>\n",
              "      <td>0.7813</td>\n",
              "      <td>5.438</td>\n",
              "      <td>94.44</td>\n",
              "      <td>0.011490</td>\n",
              "      <td>0.02461</td>\n",
              "      <td>0.05688</td>\n",
              "      <td>0.01885</td>\n",
              "      <td>0.01756</td>\n",
              "      <td>0.005115</td>\n",
              "      <td>22.54</td>\n",
              "      <td>16.67</td>\n",
              "      <td>152.20</td>\n",
              "      <td>1575.0</td>\n",
              "      <td>0.1374</td>\n",
              "      <td>0.2050</td>\n",
              "      <td>0.4000</td>\n",
              "      <td>0.1625</td>\n",
              "      <td>0.2364</td>\n",
              "      <td>0.07678</td>\n",
              "      <td>0.0</td>\n",
              "    </tr>\n",
              "  </tbody>\n",
              "</table>\n",
              "</div>"
            ],
            "text/plain": [
              "   mean radius  mean texture  ...  worst fractal dimension  target\n",
              "0        17.99         10.38  ...                  0.11890     0.0\n",
              "1        20.57         17.77  ...                  0.08902     0.0\n",
              "2        19.69         21.25  ...                  0.08758     0.0\n",
              "3        11.42         20.38  ...                  0.17300     0.0\n",
              "4        20.29         14.34  ...                  0.07678     0.0\n",
              "\n",
              "[5 rows x 31 columns]"
            ]
          },
          "metadata": {
            "tags": []
          },
          "execution_count": 7
        }
      ]
    },
    {
      "cell_type": "code",
      "metadata": {
        "id": "DmBAORxi2toL",
        "colab_type": "code",
        "colab": {
          "base_uri": "https://localhost:8080/",
          "height": 34
        },
        "outputId": "65b8a036-6ec3-4dfd-c18c-fda65d332015"
      },
      "source": [
        "data.shape"
      ],
      "execution_count": 9,
      "outputs": [
        {
          "output_type": "execute_result",
          "data": {
            "text/plain": [
              "(569, 31)"
            ]
          },
          "metadata": {
            "tags": []
          },
          "execution_count": 9
        }
      ]
    },
    {
      "cell_type": "code",
      "metadata": {
        "id": "aiiMlhf_2x7_",
        "colab_type": "code",
        "colab": {
          "base_uri": "https://localhost:8080/",
          "height": 580
        },
        "outputId": "ec7fec4d-dfd1-4de7-9869-0f6e2e92e2fd"
      },
      "source": [
        "data.dtypes"
      ],
      "execution_count": 10,
      "outputs": [
        {
          "output_type": "execute_result",
          "data": {
            "text/plain": [
              "mean radius                float64\n",
              "mean texture               float64\n",
              "mean perimeter             float64\n",
              "mean area                  float64\n",
              "mean smoothness            float64\n",
              "mean compactness           float64\n",
              "mean concavity             float64\n",
              "mean concave points        float64\n",
              "mean symmetry              float64\n",
              "mean fractal dimension     float64\n",
              "radius error               float64\n",
              "texture error              float64\n",
              "perimeter error            float64\n",
              "area error                 float64\n",
              "smoothness error           float64\n",
              "compactness error          float64\n",
              "concavity error            float64\n",
              "concave points error       float64\n",
              "symmetry error             float64\n",
              "fractal dimension error    float64\n",
              "worst radius               float64\n",
              "worst texture              float64\n",
              "worst perimeter            float64\n",
              "worst area                 float64\n",
              "worst smoothness           float64\n",
              "worst compactness          float64\n",
              "worst concavity            float64\n",
              "worst concave points       float64\n",
              "worst symmetry             float64\n",
              "worst fractal dimension    float64\n",
              "target                     float64\n",
              "dtype: object"
            ]
          },
          "metadata": {
            "tags": []
          },
          "execution_count": 10
        }
      ]
    },
    {
      "cell_type": "code",
      "metadata": {
        "id": "f6Nptxzn219M",
        "colab_type": "code",
        "colab": {
          "base_uri": "https://localhost:8080/",
          "height": 70
        },
        "outputId": "cddb416f-7f8d-4b4d-9134-a37de6e3283c"
      },
      "source": [
        "data['target'].value_counts()"
      ],
      "execution_count": 8,
      "outputs": [
        {
          "output_type": "execute_result",
          "data": {
            "text/plain": [
              "1.0    357\n",
              "0.0    212\n",
              "Name: target, dtype: int64"
            ]
          },
          "metadata": {
            "tags": []
          },
          "execution_count": 8
        }
      ]
    },
    {
      "cell_type": "code",
      "metadata": {
        "id": "QhqRoSTc28jJ",
        "colab_type": "code",
        "colab": {
          "base_uri": "https://localhost:8080/",
          "height": 297
        },
        "outputId": "48932152-d3a7-4c96-bae7-57d22f97f3e4"
      },
      "source": [
        "a = sns.countplot('target',data=data)\n",
        "plt.title('Count of Patients',fontsize=16)\n",
        "for p in a.patches:\n",
        "  height = p.get_height()\n",
        "  a.text(p.get_x()+p.get_width()/2,height + 5,height )"
      ],
      "execution_count": 9,
      "outputs": [
        {
          "output_type": "display_data",
          "data": {
            "image/png": "[encoded data removed]",
            "text/plain": [
              "<Figure size 432x288 with 1 Axes>"
            ]
          },
          "metadata": {
            "tags": [],
            "needs_background": "light"
          }
        }
      ]
    },
    {
      "cell_type": "code",
      "metadata": {
        "id": "NaOsKSVY-8p3",
        "colab_type": "code",
        "colab": {}
      },
      "source": [
        "x = data.iloc[:,:-1]\n",
        "y = data.iloc[:,-1]"
      ],
      "execution_count": 0,
      "outputs": []
    },
    {
      "cell_type": "code",
      "metadata": {
        "id": "22eyYeG0D8yj",
        "colab_type": "code",
        "colab": {}
      },
      "source": [
        "from sklearn.metrics import accuracy_score, confusion_matrix, precision_score, recall_score, f1_score\n",
        "\n",
        "def print_score(clf, X_train, y_train, X_test, y_test, train=True):\n",
        "    if train:\n",
        "        pred = clf.predict(X_train)\n",
        "        print(\"Train Result:\\n===========================================\")\n",
        "        print(f\"accuracy score: {accuracy_score(y_train, pred):.4f}\\n\")\n",
        "        print(f\"Classification Report: \\n \\tPrecision: {precision_score(y_train, pred)}\\n\\tRecall Score: {recall_score(y_train, pred)}\\n\\tF1 score: {f1_score(y_train, pred)}\\n\")\n",
        "        print(f\"Confusion Matrix: \\n {confusion_matrix(y_train, clf.predict(X_train))}\\n\")\n",
        "        \n",
        "    elif train==False:\n",
        "        pred = clf.predict(X_test)\n",
        "        print(\"Test Result:\\n===========================================\")        \n",
        "        print(f\"accuracy score: {accuracy_score(y_test, pred)}\\n\")\n",
        "        print(f\"Classification Report: \\n \\tPrecision: {precision_score(y_test, pred)}\\n\\tRecall Score: {recall_score(y_test, pred)}\\n\\tF1 score: {f1_score(y_test, pred)}\\n\")\n",
        "        print(f\"Confusion Matrix: \\n {confusion_matrix(y_test, pred)}\\n\") "
      ],
      "execution_count": 0,
      "outputs": []
    },
    {
      "cell_type": "code",
      "metadata": {
        "id": "wr2F73KKEZRX",
        "colab_type": "code",
        "colab": {}
      },
      "source": [
        "from sklearn.model_selection import cross_val_score, train_test_split\n",
        "\n",
        "X_train, X_test, y_train, y_test = train_test_split(x, y, test_size=0.3, random_state=5)"
      ],
      "execution_count": 0,
      "outputs": []
    },
    {
      "cell_type": "code",
      "metadata": {
        "id": "OT0G7p9AEm86",
        "colab_type": "code",
        "colab": {
          "base_uri": "https://localhost:8080/",
          "height": 474
        },
        "outputId": "2ea0e316-3386-4512-857e-2c77bdbf0d07"
      },
      "source": [
        "from sklearn.svm import SVC\n",
        "\n",
        "model = SVC(kernel='linear')\n",
        "model.fit(X_train, y_train)\n",
        "\n",
        "print_score(model, X_train, y_train, X_test, y_test, train=True)\n",
        "print_score(model, X_train, y_train, X_test, y_test, train=False)"
      ],
      "execution_count": 8,
      "outputs": [
        {
          "output_type": "stream",
          "text": [
            "Train Result:\n",
            "===========================================\n",
            "accuracy score: 0.9598\n",
            "\n",
            "Classification Report: \n",
            " \tPrecision: 0.9565217391304348\n",
            "\tRecall Score: 0.979757085020243\n",
            "\tF1 score: 0.9680000000000001\n",
            "\n",
            "Confusion Matrix: \n",
            " [[140  11]\n",
            " [  5 242]]\n",
            "\n",
            "Test Result:\n",
            "===========================================\n",
            "accuracy score: 0.9824561403508771\n",
            "\n",
            "Classification Report: \n",
            " \tPrecision: 0.9908256880733946\n",
            "\tRecall Score: 0.9818181818181818\n",
            "\tF1 score: 0.9863013698630138\n",
            "\n",
            "Confusion Matrix: \n",
            " [[ 60   1]\n",
            " [  2 108]]\n",
            "\n"
          ],
          "name": "stdout"
        }
      ]
    },
    {
      "cell_type": "code",
      "metadata": {
        "id": "4_y7QzkFEraK",
        "colab_type": "code",
        "colab": {
          "base_uri": "https://localhost:8080/",
          "height": 474
        },
        "outputId": "c56b5007-6543-4ca1-a475-275457f1a7c8"
      },
      "source": [
        "from sklearn.svm import SVC\n",
        "\n",
        "model = SVC(kernel='poly', degree=2, gamma='auto')\n",
        "model.fit(X_train, y_train)\n",
        "\n",
        "print_score(model, X_train, y_train, X_test, y_test, train=True)\n",
        "print_score(model, X_train, y_train, X_test, y_test, train=False)"
      ],
      "execution_count": 9,
      "outputs": [
        {
          "output_type": "stream",
          "text": [
            "Train Result:\n",
            "===========================================\n",
            "accuracy score: 0.9874\n",
            "\n",
            "Classification Report: \n",
            " \tPrecision: 0.9879032258064516\n",
            "\tRecall Score: 0.9919028340080972\n",
            "\tF1 score: 0.98989898989899\n",
            "\n",
            "Confusion Matrix: \n",
            " [[148   3]\n",
            " [  2 245]]\n",
            "\n",
            "Test Result:\n",
            "===========================================\n",
            "accuracy score: 0.9707602339181286\n",
            "\n",
            "Classification Report: \n",
            " \tPrecision: 0.9565217391304348\n",
            "\tRecall Score: 1.0\n",
            "\tF1 score: 0.9777777777777777\n",
            "\n",
            "Confusion Matrix: \n",
            " [[ 56   5]\n",
            " [  0 110]]\n",
            "\n"
          ],
          "name": "stdout"
        }
      ]
    },
    {
      "cell_type": "code",
      "metadata": {
        "id": "UrEFi-5MFKTD",
        "colab_type": "code",
        "colab": {
          "base_uri": "https://localhost:8080/",
          "height": 474
        },
        "outputId": "476e8f7e-7b01-4574-d103-0d88dc48344d"
      },
      "source": [
        "from sklearn.svm import SVC\n",
        "\n",
        "model = SVC(kernel='rbf', gamma=1)\n",
        "model.fit(X_train, y_train)\n",
        "\n",
        "print_score(model, X_train, y_train, X_test, y_test, train=True)\n",
        "print_score(model, X_train, y_train, X_test, y_test, train=False)"
      ],
      "execution_count": 10,
      "outputs": [
        {
          "output_type": "stream",
          "text": [
            "Train Result:\n",
            "===========================================\n",
            "accuracy score: 1.0000\n",
            "\n",
            "Classification Report: \n",
            " \tPrecision: 1.0\n",
            "\tRecall Score: 1.0\n",
            "\tF1 score: 1.0\n",
            "\n",
            "Confusion Matrix: \n",
            " [[151   0]\n",
            " [  0 247]]\n",
            "\n",
            "Test Result:\n",
            "===========================================\n",
            "accuracy score: 0.6432748538011696\n",
            "\n",
            "Classification Report: \n",
            " \tPrecision: 0.6432748538011696\n",
            "\tRecall Score: 1.0\n",
            "\tF1 score: 0.7829181494661921\n",
            "\n",
            "Confusion Matrix: \n",
            " [[  0  61]\n",
            " [  0 110]]\n",
            "\n"
          ],
          "name": "stdout"
        }
      ]
    },
    {
      "cell_type": "code",
      "metadata": {
        "id": "UasaclF0FTia",
        "colab_type": "code",
        "colab": {}
      },
      "source": [
        "from sklearn.preprocessing import MinMaxScaler\n",
        "\n",
        "sc = MinMaxScaler()\n",
        "X_std = sc.fit_transform(x)\n",
        "\n",
        "X_train, X_test, y_train, y_test = train_test_split(X_std, y, test_size=0.3, random_state=5)"
      ],
      "execution_count": 0,
      "outputs": []
    },
    {
      "cell_type": "code",
      "metadata": {
        "id": "JCrfrKc8GaZD",
        "colab_type": "code",
        "colab": {
          "base_uri": "https://localhost:8080/",
          "height": 1000
        },
        "outputId": "cc70d0af-7f5d-4fac-b351-addb65b010f1"
      },
      "source": [
        "print(\"=======================Linear Kernel SVM==========================\")\n",
        "model = SVC(kernel='linear')\n",
        "model.fit(X_train, y_train)\n",
        "\n",
        "print_score(model, X_train, y_train, X_test, y_test, train=True)\n",
        "print_score(model, X_train, y_train, X_test, y_test, train=False)\n",
        "\n",
        "\n",
        "print(\"=======================Polynomial Kernel SVM==========================\")\n",
        "from sklearn.svm import SVC\n",
        "\n",
        "model = SVC(kernel='poly', degree=2, gamma='auto')\n",
        "model.fit(X_train, y_train)\n",
        "print_score(model, X_train, y_train, X_test, y_test, train=True)\n",
        "print_score(model, X_train, y_train, X_test, y_test, train=False)\n",
        "\n",
        "print(\"=======================Radial Kernel SVM==========================\")\n",
        "from sklearn.svm import SVC\n",
        "\n",
        "model = SVC(kernel='rbf', gamma=1)\n",
        "model.fit(X_train, y_train)\n",
        "\n",
        "print_score(model, X_train, y_train, X_test, y_test, train=True)\n",
        "print_score(model, X_train, y_train, X_test, y_test, train=False)"
      ],
      "execution_count": 13,
      "outputs": [
        {
          "output_type": "stream",
          "text": [
            "=======================Linear Kernel SVM==========================\n",
            "Train Result:\n",
            "===========================================\n",
            "accuracy score: 0.9774\n",
            "\n",
            "Classification Report: \n",
            " \tPrecision: 0.9722222222222222\n",
            "\tRecall Score: 0.9919028340080972\n",
            "\tF1 score: 0.9819639278557114\n",
            "\n",
            "Confusion Matrix: \n",
            " [[144   7]\n",
            " [  2 245]]\n",
            "\n",
            "Test Result:\n",
            "===========================================\n",
            "accuracy score: 0.9883040935672515\n",
            "\n",
            "Classification Report: \n",
            " \tPrecision: 0.9821428571428571\n",
            "\tRecall Score: 1.0\n",
            "\tF1 score: 0.9909909909909909\n",
            "\n",
            "Confusion Matrix: \n",
            " [[ 59   2]\n",
            " [  0 110]]\n",
            "\n",
            "=======================Polynomial Kernel SVM==========================\n",
            "Train Result:\n",
            "===========================================\n",
            "accuracy score: 0.7814\n",
            "\n",
            "Classification Report: \n",
            " \tPrecision: 0.7395209580838323\n",
            "\tRecall Score: 1.0\n",
            "\tF1 score: 0.8502581755593803\n",
            "\n",
            "Confusion Matrix: \n",
            " [[ 64  87]\n",
            " [  0 247]]\n",
            "\n",
            "Test Result:\n",
            "===========================================\n",
            "accuracy score: 0.8538011695906432\n",
            "\n",
            "Classification Report: \n",
            " \tPrecision: 0.8148148148148148\n",
            "\tRecall Score: 1.0\n",
            "\tF1 score: 0.8979591836734693\n",
            "\n",
            "Confusion Matrix: \n",
            " [[ 36  25]\n",
            " [  0 110]]\n",
            "\n",
            "=======================Radial Kernel SVM==========================\n",
            "Train Result:\n",
            "===========================================\n",
            "accuracy score: 0.9774\n",
            "\n",
            "Classification Report: \n",
            " \tPrecision: 0.9722222222222222\n",
            "\tRecall Score: 0.9919028340080972\n",
            "\tF1 score: 0.9819639278557114\n",
            "\n",
            "Confusion Matrix: \n",
            " [[144   7]\n",
            " [  2 245]]\n",
            "\n",
            "Test Result:\n",
            "===========================================\n",
            "accuracy score: 0.9883040935672515\n",
            "\n",
            "Classification Report: \n",
            " \tPrecision: 0.9821428571428571\n",
            "\tRecall Score: 1.0\n",
            "\tF1 score: 0.9909909909909909\n",
            "\n",
            "Confusion Matrix: \n",
            " [[ 59   2]\n",
            " [  0 110]]\n",
            "\n"
          ],
          "name": "stdout"
        }
      ]
    },
    {
      "cell_type": "code",
      "metadata": {
        "id": "3DDuJxRxGj7J",
        "colab_type": "code",
        "colab": {
          "base_uri": "https://localhost:8080/",
          "height": 582
        },
        "outputId": "206788ed-7ef0-4f29-86c2-78b711563a8e"
      },
      "source": [
        "from sklearn.model_selection import GridSearchCV\n",
        "\n",
        "param_grid = {'C': [0.01, 0.1, 0.5, 1, 10, 100], \n",
        "              'gamma': [1, 0.75, 0.5, 0.25, 0.1, 0.01, 0.001], \n",
        "              'kernel': ['rbf', 'poly', 'linear']} \n",
        "\n",
        "grid = GridSearchCV(SVC(), param_grid, refit=True, verbose=1, cv=5, iid=True)\n",
        "\n",
        "grid.fit(X_train, y_train)\n",
        "\n",
        "print_score(grid, X_train, y_train, X_test, y_test, train=True)\n",
        "print_score(grid, X_train, y_train, X_test, y_test, train=False)"
      ],
      "execution_count": 14,
      "outputs": [
        {
          "output_type": "stream",
          "text": [
            "Fitting 5 folds for each of 126 candidates, totalling 630 fits\n"
          ],
          "name": "stdout"
        },
        {
          "output_type": "stream",
          "text": [
            "[Parallel(n_jobs=1)]: Using backend SequentialBackend with 1 concurrent workers.\n"
          ],
          "name": "stderr"
        },
        {
          "output_type": "stream",
          "text": [
            "Train Result:\n",
            "===========================================\n",
            "accuracy score: 0.9824\n",
            "\n",
            "Classification Report: \n",
            " \tPrecision: 0.9761904761904762\n",
            "\tRecall Score: 0.9959514170040485\n",
            "\tF1 score: 0.9859719438877755\n",
            "\n",
            "Confusion Matrix: \n",
            " [[145   6]\n",
            " [  1 246]]\n",
            "\n",
            "Test Result:\n",
            "===========================================\n",
            "accuracy score: 0.9883040935672515\n",
            "\n",
            "Classification Report: \n",
            " \tPrecision: 0.9821428571428571\n",
            "\tRecall Score: 1.0\n",
            "\tF1 score: 0.9909909909909909\n",
            "\n",
            "Confusion Matrix: \n",
            " [[ 59   2]\n",
            " [  0 110]]\n",
            "\n"
          ],
          "name": "stdout"
        },
        {
          "output_type": "stream",
          "text": [
            "[Parallel(n_jobs=1)]: Done 630 out of 630 | elapsed:    2.6s finished\n",
            "/usr/local/lib/python3.6/dist-packages/sklearn/model_selection/_search.py:823: FutureWarning: The parameter 'iid' is deprecated in 0.22 and will be removed in 0.24.\n",
            "  \"removed in 0.24.\", FutureWarning\n"
          ],
          "name": "stderr"
        }
      ]
    },
    {
      "cell_type": "code",
      "metadata": {
        "id": "O4DVLGBeHOCJ",
        "colab_type": "code",
        "colab": {
          "base_uri": "https://localhost:8080/",
          "height": 34
        },
        "outputId": "9847a3d4-5fab-4284-8951-3cb5fc429d07"
      },
      "source": [
        "grid.best_params_"
      ],
      "execution_count": 17,
      "outputs": [
        {
          "output_type": "execute_result",
          "data": {
            "text/plain": [
              "{'C': 10, 'gamma': 0.25, 'kernel': 'rbf'}"
            ]
          },
          "metadata": {
            "tags": []
          },
          "execution_count": 17
        }
      ]
    },
    {
      "cell_type": "code",
      "metadata": {
        "id": "3w7nWlVhHfam",
        "colab_type": "code",
        "colab": {
          "base_uri": "https://localhost:8080/",
          "height": 474
        },
        "outputId": "9b310ff5-9eed-4b71-f29f-d184d58b7d18"
      },
      "source": [
        "model = SVC(kernel='rbf',C=10,gamma=0.25)\n",
        "model.fit(X_train, y_train)\n",
        "\n",
        "print_score(model, X_train, y_train, X_test, y_test, train=True)\n",
        "print_score(model, X_train, y_train, X_test, y_test, train=False)\n"
      ],
      "execution_count": 19,
      "outputs": [
        {
          "output_type": "stream",
          "text": [
            "Train Result:\n",
            "===========================================\n",
            "accuracy score: 0.9824\n",
            "\n",
            "Classification Report: \n",
            " \tPrecision: 0.9761904761904762\n",
            "\tRecall Score: 0.9959514170040485\n",
            "\tF1 score: 0.9859719438877755\n",
            "\n",
            "Confusion Matrix: \n",
            " [[145   6]\n",
            " [  1 246]]\n",
            "\n",
            "Test Result:\n",
            "===========================================\n",
            "accuracy score: 0.9883040935672515\n",
            "\n",
            "Classification Report: \n",
            " \tPrecision: 0.9821428571428571\n",
            "\tRecall Score: 1.0\n",
            "\tF1 score: 0.9909909909909909\n",
            "\n",
            "Confusion Matrix: \n",
            " [[ 59   2]\n",
            " [  0 110]]\n",
            "\n"
          ],
          "name": "stdout"
        }
      ]
    },
    {
      "cell_type": "code",
      "metadata": {
        "id": "P0ofNWUxH8K0",
        "colab_type": "code",
        "colab": {}
      },
      "source": [
        ""
      ],
      "execution_count": 0,
      "outputs": []
    }
  ]
}